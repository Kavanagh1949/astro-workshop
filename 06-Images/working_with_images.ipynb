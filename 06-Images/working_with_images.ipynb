{
 "cells": [
  {
   "cell_type": "markdown",
   "id": "c84e43d5-9891-49c7-b162-51d3fb1e2ce9",
   "metadata": {},
   "source": [
    "# Working with images\n",
    "\n",
    "There is an astropy package devoted entirely to FITS, but if you are working with images it is easier to use CCDData to create the images."
   ]
  },
  {
   "cell_type": "markdown",
   "id": "c5aabb32-a612-4101-9cbf-4dd266c5a827",
   "metadata": {
    "tags": []
   },
   "source": [
    "## CCDData as a container for CCD images"
   ]
  },
  {
   "cell_type": "markdown",
   "id": "005b1f3a-a0a3-4733-b189-7d0d21d45f65",
   "metadata": {},
   "source": [
    "A `CCDData` object can store the data, mask and metadata for an image."
   ]
  },
  {
   "cell_type": "code",
   "execution_count": null,
   "id": "e666d1f4-eb74-4fc7-8e25-b83a61aefce9",
   "metadata": {},
   "outputs": [],
   "source": [
    "import numpy as np\n",
    "\n",
    "from astropy.utils.data import get_pkg_data_filename\n",
    "from astropy.nddata import CCDData\n",
    "\n",
    "%matplotlib inline\n",
    "import matplotlib.pyplot as plt\n"
   ]
  },
  {
   "cell_type": "markdown",
   "id": "c3d1822e-8319-4d66-8b89-fac6550ed62f",
   "metadata": {},
   "source": [
    "### Download image to work with (65MB)"
   ]
  },
  {
   "cell_type": "code",
   "execution_count": null,
   "id": "3db29161-a6d0-4d77-8a27-917f21b059de",
   "metadata": {},
   "outputs": [],
   "source": [
    "ccd_for_saving = CCDData.read('http://physics.mnstate.edu/craig/ey-uma-S001-R001-C037-rp.fit.gz')\n",
    "ccd_for_saving.write('ey-uma-S001-R001-C037-rp.fit', overwrite=True)"
   ]
  },
  {
   "cell_type": "code",
   "execution_count": null,
   "id": "8dde15f1-4bde-40f3-a679-8f2986dd86ce",
   "metadata": {},
   "outputs": [],
   "source": [
    "ccd = CCDData.read('ey-uma-S001-R001-C037-rp.fit')"
   ]
  },
  {
   "cell_type": "markdown",
   "id": "8ca20d96-618d-4285-89c5-376d13186e2e",
   "metadata": {},
   "source": [
    "The header or metadata is available via `ccd.header` or `ccd.meta`."
   ]
  },
  {
   "cell_type": "code",
   "execution_count": null,
   "id": "435f9fc2-9a07-475d-8b6a-1d6d420f40f9",
   "metadata": {},
   "outputs": [],
   "source": [
    "ccd.header"
   ]
  },
  {
   "cell_type": "markdown",
   "id": "6097b8ef-acf1-4fc8-bde6-cda2f25b3a02",
   "metadata": {},
   "source": [
    "For this file, the mask and uncertainty are None."
   ]
  },
  {
   "cell_type": "code",
   "execution_count": null,
   "id": "699120df-aa8a-429d-ad78-adbaa24aa213",
   "metadata": {},
   "outputs": [],
   "source": [
    "ccd.mask"
   ]
  },
  {
   "cell_type": "code",
   "execution_count": null,
   "id": "aa7c4135-ee5f-4c92-96e3-5f6dd83f0042",
   "metadata": {},
   "outputs": [],
   "source": [
    "ccd.uncertainty"
   ]
  },
  {
   "cell_type": "code",
   "execution_count": null,
   "id": "7a82563e-41e9-4040-be51-6f560e224dde",
   "metadata": {},
   "outputs": [],
   "source": [
    "ccd.wcs"
   ]
  },
  {
   "cell_type": "markdown",
   "id": "930f23eb-8a10-4f27-a581-b8e61686a998",
   "metadata": {},
   "source": [
    "Every `CCDData` object has to have a unit."
   ]
  },
  {
   "cell_type": "code",
   "execution_count": null,
   "id": "d72bb2bb-bb6e-48cc-922a-4d6abfdc67af",
   "metadata": {},
   "outputs": [],
   "source": [
    "ccd.unit"
   ]
  },
  {
   "cell_type": "code",
   "execution_count": null,
   "id": "64f0a483-6fdf-4698-8316-06b618e3363c",
   "metadata": {},
   "outputs": [],
   "source": [
    "ccd.uncertainty"
   ]
  },
  {
   "cell_type": "markdown",
   "id": "adb6d1bf-1b96-4890-95df-8b16d7005dda",
   "metadata": {},
   "source": [
    "Populate the mask and uncertainty"
   ]
  },
  {
   "cell_type": "code",
   "execution_count": null,
   "id": "6890dc8f-9edf-49fe-9c83-951109c60bf7",
   "metadata": {},
   "outputs": [],
   "source": [
    "ccd.mask = ccd.data > 38000"
   ]
  },
  {
   "cell_type": "markdown",
   "id": "5097bdfe-c77e-4afb-86db-59870be0770c",
   "metadata": {},
   "source": [
    "Assuming a read noise of 2.9 electrons, and a gain of 15 electrons per ADU, compute an uncertainty."
   ]
  },
  {
   "cell_type": "code",
   "execution_count": null,
   "id": "cd2021a5-d70a-4d6c-9625-bb6f19e7a79b",
   "metadata": {},
   "outputs": [],
   "source": [
    "read_noise = 2.9\n",
    "gain = 15\n",
    "ccd.uncertainty = np.sqrt(read_noise**2 + gain*ccd.data) / gain"
   ]
  },
  {
   "cell_type": "markdown",
   "id": "c3fddf5c-7ca3-4768-b9e1-4563f27fa801",
   "metadata": {},
   "source": [
    "Subtract off a DC offset"
   ]
  },
  {
   "cell_type": "code",
   "execution_count": null,
   "id": "4d10f7b2-5982-41ef-b037-6d21f4875c50",
   "metadata": {},
   "outputs": [],
   "source": [
    "ccd.data = ccd.data - np.median(ccd.data)"
   ]
  },
  {
   "cell_type": "markdown",
   "id": "2dfa99be-f3a0-406d-92d4-8d51d59313b9",
   "metadata": {},
   "source": [
    "Write out to a file"
   ]
  },
  {
   "cell_type": "code",
   "execution_count": null,
   "id": "0ee826af-5c2f-41a5-bf59-03df1e542631",
   "metadata": {},
   "outputs": [],
   "source": [
    "ccd.write('ccddata.fits', overwrite=True)"
   ]
  },
  {
   "cell_type": "markdown",
   "id": "acc63d1f-24e5-4d38-bf5f-40e25cd91663",
   "metadata": {},
   "source": [
    "Read back in"
   ]
  },
  {
   "cell_type": "code",
   "execution_count": null,
   "id": "0dc3d11c-3d71-4883-a528-eae904970ce4",
   "metadata": {},
   "outputs": [],
   "source": [
    "ccd_new = CCDData.read('ccddata.fits')"
   ]
  },
  {
   "cell_type": "code",
   "execution_count": null,
   "id": "fd9ff72d-f9c1-430c-9993-a189144f22de",
   "metadata": {},
   "outputs": [],
   "source": [
    "plt.figure()\n",
    "plt.imshow(ccd_new.data)\n",
    "plt.colorbar()"
   ]
  },
  {
   "cell_type": "markdown",
   "id": "cfc42ce3-cb4d-4cee-bf77-e42981df904d",
   "metadata": {},
   "source": [
    "### Astronomical images often need some scaling\n",
    "\n",
    "One convenient way of doing that is the `AsymmetricPercentileInterval`, which lets you specify the lower and upper percentile of pixels that will be mapped to each end of the color spectrum."
   ]
  },
  {
   "cell_type": "code",
   "execution_count": null,
   "id": "5f7a5267-cf4b-4be6-9c38-15837c6dfee0",
   "metadata": {},
   "outputs": [],
   "source": [
    "from astropy.visualization import AsymmetricPercentileInterval, ImageNormalize"
   ]
  },
  {
   "cell_type": "code",
   "execution_count": null,
   "id": "ba018e00-4a17-4b79-be1a-dbcb68978011",
   "metadata": {},
   "outputs": [],
   "source": [
    "interval = AsymmetricPercentileInterval(25, 99) "
   ]
  },
  {
   "cell_type": "code",
   "execution_count": null,
   "id": "013b3f24-93f6-4f07-97b6-e43d20c65188",
   "metadata": {},
   "outputs": [],
   "source": [
    "maplotlib_norm = ImageNormalize(ccd_new.data, interval=interval)\n",
    "plt.figure()\n",
    "plt.imshow(ccd_new.data, origin='lower', norm=maplotlib_norm)\n",
    "plt.colorbar()"
   ]
  },
  {
   "cell_type": "markdown",
   "id": "d7a21ed9-08f3-4b0b-8ed4-38f5f82386c0",
   "metadata": {},
   "source": [
    "## Interactive images with `astrowidgets`\n",
    "\n",
    "The `astrowidgets` package provides an interactive image view for a Jupyter notebook. At the moment the import statement is a little complicated and depends on which version of astrowidgets you have."
   ]
  },
  {
   "cell_type": "markdown",
   "id": "806098f6-f24b-41a9-8866-c99a69fd3500",
   "metadata": {
    "tags": []
   },
   "source": [
    "[astrowidgets](https://astrowidgets.readthedocs.io/en/latest/install.html) builds on ipywidgets library to provide an in-browser interactivate image viewer. Expect some of its details to evolve over the next year.\n",
    "\n",
    "[ginga](https://ginga.readthedocs.io/en/latest/) is an image viewing library that can use a bunch of ddifferent backends"
   ]
  },
  {
   "cell_type": "code",
   "execution_count": null,
   "id": "66c57291-ce4f-442b-87c1-54be0740a0cc",
   "metadata": {
    "tags": []
   },
   "outputs": [],
   "source": [
    "# The correct import depends on what version of astrowidgets is installed,\n",
    "# unfortunately.\n",
    "\n",
    "try:\n",
    "    from astrowidgets.ginga import ImageWidget\n",
    "except ImportError:\n",
    "    from astrowidgets import ImageWidget"
   ]
  },
  {
   "cell_type": "markdown",
   "id": "ab82399c-65c6-4499-a13d-875eb8c18252",
   "metadata": {},
   "source": [
    "### astrowidgets controls\n",
    "\n",
    "Use the `+` and `-` keys to zoom in and out. Either click and drag to pan or scroll to pan."
   ]
  },
  {
   "cell_type": "code",
   "execution_count": null,
   "id": "99114208-1dae-4c14-9295-d0c42b37ec04",
   "metadata": {
    "tags": []
   },
   "outputs": [],
   "source": [
    "iw = ImageWidget()\n",
    "iw"
   ]
  },
  {
   "cell_type": "markdown",
   "id": "543d1a20-8192-432b-bcfd-c392729b379d",
   "metadata": {},
   "source": [
    "Load an image, option 1"
   ]
  },
  {
   "cell_type": "code",
   "execution_count": null,
   "id": "663d4e72-b0b9-4873-b3d6-69fa4536ce19",
   "metadata": {
    "tags": []
   },
   "outputs": [],
   "source": [
    "iw.load_nddata(ccd_new)"
   ]
  },
  {
   "cell_type": "markdown",
   "id": "4ccd315b-928b-4001-b9a5-075d36c0b8c2",
   "metadata": {
    "tags": []
   },
   "source": [
    "If we hadn't already read in the file you can do this instead"
   ]
  },
  {
   "cell_type": "code",
   "execution_count": null,
   "id": "a59a377c-3ad1-44bd-a094-9efe34a6ddd6",
   "metadata": {
    "tags": []
   },
   "outputs": [],
   "source": [
    "iw.load_fits('ey-uma-S001-R001-C037-rp.fit')"
   ]
  }
 ],
 "metadata": {
  "kernelspec": {
   "display_name": "Python 3 (ipykernel)",
   "language": "python",
   "name": "python3"
  },
  "language_info": {
   "codemirror_mode": {
    "name": "ipython",
    "version": 3
   },
   "file_extension": ".py",
   "mimetype": "text/x-python",
   "name": "python",
   "nbconvert_exporter": "python",
   "pygments_lexer": "ipython3",
   "version": "3.10.13"
  }
 },
 "nbformat": 4,
 "nbformat_minor": 5
}
