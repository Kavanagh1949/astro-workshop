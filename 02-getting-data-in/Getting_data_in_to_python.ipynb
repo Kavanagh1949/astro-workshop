{
 "cells": [
  {
   "cell_type": "markdown",
   "id": "42510b4e-d3aa-4794-ac1f-b73201115bbb",
   "metadata": {},
   "source": [
    "# Getting your data into Python\n",
    "\n",
    "## Tables and dataframes\n",
    "\n",
    "For more detail about tables, see [this tutorial notebook about tables](../Extras/06-Tables/Tables.ipynb) and the [astropy documentation on tables](https://docs.astropy.org/en/stable/table/index.html)."
   ]
  },
  {
   "cell_type": "markdown",
   "id": "1ab6b2da-9e8e-49c8-babe-f39868ad5164",
   "metadata": {},
   "source": [
    "## Creating tables\n",
    "\n",
    "There is great deal of flexibility in the way that a table can be initially constructed:\n",
    "\n",
    "- Read an existing table from a file or web URL\n",
    "- Add columns of data one by one\n",
    "- Add rows of data one by one\n",
    "- From an existing data structure in memory:\n",
    "\n",
    "  - List of data columns\n",
    "  - Dict of data columns\n",
    "  - List of row dicts\n",
    "  - NumPy homgeneous array or structured array\n",
    "  - List of row records\n",
    "  \n",
    "See the documentation section on [Constructing a table](http://astropy.readthedocs.org/en/stable/table/construct_table.html) for the details and plenty of examples."
   ]
  },
  {
   "cell_type": "code",
   "execution_count": null,
   "id": "c4c043c7-5802-4f9a-b44a-ebb2d94ba5a9",
   "metadata": {},
   "outputs": [],
   "source": []
  }
 ],
 "metadata": {
  "kernelspec": {
   "display_name": "Python 3 (ipykernel)",
   "language": "python",
   "name": "python3"
  },
  "language_info": {
   "codemirror_mode": {
    "name": "ipython",
    "version": 3
   },
   "file_extension": ".py",
   "mimetype": "text/x-python",
   "name": "python",
   "nbconvert_exporter": "python",
   "pygments_lexer": "ipython3",
   "version": "3.10.13"
  }
 },
 "nbformat": 4,
 "nbformat_minor": 5
}
