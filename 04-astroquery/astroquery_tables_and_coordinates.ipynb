{
 "cells": [
  {
   "cell_type": "markdown",
   "id": "449d7ea3-d1ea-42d5-a92d-cab6e55b7e6a",
   "metadata": {},
   "source": [
    "# Astroquery: a package for retrieving data from online sources\n",
    "\n",
    "For more information, see [astroquery documentation](https://astroquery.readthedocs.io/en/latest/), which includes an extensive list of [services](https://astroquery.readthedocs.io/en/latest/#available-services), [catalogs, archives and other services](https://astroquery.readthedocs.io/en/latest/#catalog-archive-and-other). \n",
    "\n",
    "One of the nice things about `astroquery` is that it typically returns information as useful astropy objects, like tables."
   ]
  },
  {
   "cell_type": "code",
   "execution_count": null,
   "id": "6d2e902e-bf5a-4d76-a185-0c3b6d37f0f9",
   "metadata": {
    "tags": []
   },
   "outputs": [],
   "source": [
    "from astroquery.vizier import Vizier\n",
    "from astropy import units as u\n",
    "from astropy.coordinates import SkyCoord\n",
    "from astropy.table import Table"
   ]
  },
  {
   "cell_type": "markdown",
   "id": "c2753d74-70c8-4929-9e3f-83ef58871c00",
   "metadata": {},
   "source": [
    "## Scenario: what other variables are in the field of DY Her?\n",
    "\n",
    "Imagine you have some images of the variable DY Her and you wonder whether there are other variable in that field of view. If there are, you might also want to check whether you have data on any of them."
   ]
  },
  {
   "cell_type": "markdown",
   "id": "d23ae333-7ca2-46de-a5b6-bd255be9dc7e",
   "metadata": {},
   "source": [
    "The astroquery package can help with that, by allowing us to retrieve data from the VizieR service.  [Vizier](https://vizier.cds.unistra.fr/viz-bin/VizieR) is an online catalog of catalogs."
   ]
  },
  {
   "cell_type": "markdown",
   "id": "e9eb56f1-0f72-4b86-a1ae-4bd726c26394",
   "metadata": {},
   "source": [
    "### Use astroquery to find nearby variables\n",
    "\n",
    "One of the things we will need for our search is the location of DY Her, so we'll start by looking that up using astropy coordinates."
   ]
  },
  {
   "cell_type": "code",
   "execution_count": null,
   "id": "8780f116-ab89-46aa-b046-372b7d27ef25",
   "metadata": {},
   "outputs": [],
   "source": [
    "dy_her_coord = SkyCoord.from_name('dy her')"
   ]
  },
  {
   "cell_type": "markdown",
   "id": "0cdffc5b-7c52-4e27-b053-7456c3add5b4",
   "metadata": {},
   "source": [
    "We also need the names of the catalogs we want from VizieR. It is easiest to look up the names by searching at the Vizier web site. I've done that twp get the two names below.\n",
    "\n",
    "VizieR maintains a copy of the VSX database (it is only updated monthly, so don't look there for the latest new variable stars), and has a copy of the APASS catalog. APASS is the AAVSO Photometric All Sky Survey."
   ]
  },
  {
   "cell_type": "code",
   "execution_count": null,
   "id": "05b722d2-dc4f-4e33-87c3-03b9de322f9d",
   "metadata": {
    "tags": []
   },
   "outputs": [],
   "source": [
    "from astroquery.vizier import Vizier\n",
    "\n",
    "apass_name = 'II/336/apass9'\n",
    "vsx_name = 'B/vsx/vsx'\n",
    "\n",
    "Vizier.ROW_LIMIT = -1  # By default a search returns only 50 rows. Setting this to -1 requests that all rows be returned\n",
    "cat = Vizier.query_region(dy_her_coord,   # RA/Dec of center of search\n",
    "                          radius=20 * u.arcmin,  # Radius of search, in arcmin\n",
    "                          catalog=vsx_name)"
   ]
  },
  {
   "cell_type": "markdown",
   "id": "e0705df4-bb1f-4ae2-85b9-1c3b5d6e8226",
   "metadata": {},
   "source": [
    "The `Vizier` class will return a list of tables -- it is possible to search *all* Vizier catalogs for a particular position by omitting the `catalog` argument above. In this case, we only searched one catalog, so we only get back one table."
   ]
  },
  {
   "cell_type": "code",
   "execution_count": null,
   "id": "70ddfcd1-d273-487f-b9c3-3eecae2221fe",
   "metadata": {
    "tags": []
   },
   "outputs": [],
   "source": [
    "dy_her_vsx = cat[0]"
   ]
  },
  {
   "cell_type": "markdown",
   "id": "83d7e7b3-0bd7-4356-ae65-65f4b6331e29",
   "metadata": {},
   "source": [
    "Let's take a look at the table we got back."
   ]
  },
  {
   "cell_type": "code",
   "execution_count": null,
   "id": "f0a17244-e74c-4a1d-9136-e8982dfa32e0",
   "metadata": {
    "tags": []
   },
   "outputs": [],
   "source": [
    "dy_her_vsx"
   ]
  },
  {
   "cell_type": "markdown",
   "id": "f3d40b89-d0e8-4d06-9346-f5c31eb144d6",
   "metadata": {},
   "source": [
    "There are only five variable stars in this field of view, but perhaps we might have caught changes in more than one. To see whether that is the case, let's focus on just a few of the columns."
   ]
  },
  {
   "cell_type": "code",
   "execution_count": null,
   "id": "43e5fda9-364f-4bf2-8c22-195b9c174557",
   "metadata": {},
   "outputs": [],
   "source": [
    "dy_her_vsx['Name', 'Type', 'Period', 'max']"
   ]
  },
  {
   "cell_type": "markdown",
   "id": "452c318c-e5e8-4b20-be62-8cdccc553fe5",
   "metadata": {},
   "source": [
    "### What data do we happen to have on these stars?"
   ]
  },
  {
   "cell_type": "markdown",
   "id": "08fdc3ed-03b5-4203-8906-036f4337fd60",
   "metadata": {},
   "source": [
    "The telescope we used to take the data on DY Her can only detect stars down to about 16th magnitude given the exposure time we used, leaving us with just three possible stars. Happily, they all have fairly short periods so we may have caught some change in brightness. \n",
    "\n",
    "As a next step, we will read the data into an astropy table."
   ]
  },
  {
   "cell_type": "code",
   "execution_count": null,
   "id": "51f94740-7527-40c0-bd5d-9ae13323dab1",
   "metadata": {},
   "outputs": [],
   "source": [
    "dy_her_data = Table.read('dy her-2023-06-19-relative-flux.csv')\n",
    "len(dy_her_data)"
   ]
  },
  {
   "cell_type": "markdown",
   "id": "b0e348c7-dfb9-453c-82ac-c8e02ccb09b0",
   "metadata": {},
   "source": [
    "Let's take a look at the table..."
   ]
  },
  {
   "cell_type": "code",
   "execution_count": null,
   "id": "c23c10cd-7d73-43e9-af74-db7185aa47fa",
   "metadata": {},
   "outputs": [],
   "source": [
    "dy_her_data[:5]"
   ]
  },
  {
   "cell_type": "markdown",
   "id": "e6474327-a6d3-4db6-99eb-1c6e36392add",
   "metadata": {},
   "source": [
    "That is a little overwhelming. Fortunately, we can pull out just the data corresponding to one star if we can identify which star in our data matches each of the stars we found in VSX.\n",
    "\n",
    "We will do that by matching the coordinates of the stars in this data to the coordinates of the stars in VSX."
   ]
  },
  {
   "cell_type": "markdown",
   "id": "68625441-0366-4474-9d03-b91be5e125fa",
   "metadata": {},
   "source": [
    "### Catalog matching using `SkyCoord`\n",
    "\n",
    "Astropy coordinate objects come with a mechanism for matching one list of coordinates against another. Here, we would like to find a match for each of the VSX stars in our data. By default, what we will get back is the row number of the closest match in our data.\n",
    "\n",
    "We begin by making coordinate objects for the VSX data and our data."
   ]
  },
  {
   "cell_type": "code",
   "execution_count": null,
   "id": "549f07eb-a94e-4e24-8f23-c11250aa831f",
   "metadata": {},
   "outputs": [],
   "source": [
    "dy_her_vsx_coord = SkyCoord(ra=dy_her_vsx['RAJ2000'], dec=dy_her_vsx['DEJ2000'], unit='degree')"
   ]
  },
  {
   "cell_type": "code",
   "execution_count": null,
   "id": "db31dcd0-98c2-466c-b828-665c1f3e436b",
   "metadata": {
    "tags": []
   },
   "outputs": [],
   "source": [
    "dy_her_data_coords = SkyCoord(ra=dy_her_data['RA'], dec=dy_her_data['Dec'], unit='degree')"
   ]
  },
  {
   "cell_type": "markdown",
   "id": "46d326c1-4cd6-4a8f-a212-e0cbb6eeb992",
   "metadata": {},
   "source": [
    "Note that there are five VSX stars, so there are five coordinates in `dy_her_vsx_coord`, one for each of the star:"
   ]
  },
  {
   "cell_type": "code",
   "execution_count": null,
   "id": "77102db8-ae73-4978-a80d-5c4c2e3dbe7d",
   "metadata": {},
   "outputs": [],
   "source": [
    "dy_her_vsx_coord"
   ]
  },
  {
   "cell_type": "markdown",
   "id": "77e73bf8-3050-41a7-a7a8-b17b5a97cd50",
   "metadata": {},
   "source": [
    "The single line below is doing a lot of work, and the order in which the coordinates appear matters. We want 5 matches in the end, one for each VSX star, so we start with the `dy_her_vsx_coord` coordinates, and then match those to our data."
   ]
  },
  {
   "cell_type": "code",
   "execution_count": null,
   "id": "6bbf763b-329e-4541-8155-6982eff285df",
   "metadata": {},
   "outputs": [],
   "source": [
    "match_idx, d2d, d3d = dy_her_vsx_coord.match_to_catalog_sky(dy_her_data_coords)"
   ]
  },
  {
   "cell_type": "markdown",
   "id": "aba6967f-93ed-4a79-a4c7-11f625537c8a",
   "metadata": {},
   "source": [
    "We get three different results here:\n",
    "\n",
    "+ The row of the closest match to each VSX star, called `match_idx` above.\n",
    "+ The angular distance between each VSX star and its closest match in our data, called `d2d` above.\n",
    "+ The distance (in 3 dimensions) between each VSX star and its closest match. This is not meaningful for in many cases because we do not have an distance information.\n",
    "\n",
    "Let's look at each of the three below."
   ]
  },
  {
   "cell_type": "code",
   "execution_count": null,
   "id": "a0684443-40f2-4c52-9c30-e3a646a1aa3a",
   "metadata": {},
   "outputs": [],
   "source": [
    "match_idx"
   ]
  },
  {
   "cell_type": "code",
   "execution_count": null,
   "id": "f51d3aab-5b80-4b2e-8896-a8622f601744",
   "metadata": {},
   "outputs": [],
   "source": [
    "d2d"
   ]
  },
  {
   "cell_type": "code",
   "execution_count": null,
   "id": "6531936d-4491-4873-8aff-0b1f8395f381",
   "metadata": {},
   "outputs": [],
   "source": [
    "d3d"
   ]
  },
  {
   "cell_type": "code",
   "execution_count": null,
   "id": "2ea06cc8-55ae-428a-8e52-b79fb5bf3925",
   "metadata": {},
   "outputs": [],
   "source": [
    "star_5 = tab['star_id'] == 5\n",
    "star_5_data = tab[star_5]"
   ]
  },
  {
   "cell_type": "code",
   "execution_count": null,
   "id": "cf63e12f-b44a-48f9-9b7e-587ef4baafb4",
   "metadata": {},
   "outputs": [],
   "source": [
    "star_5_data['BJD', 'relative_flux']"
   ]
  }
 ],
 "metadata": {
  "kernelspec": {
   "display_name": "Python 3 (ipykernel)",
   "language": "python",
   "name": "python3"
  },
  "language_info": {
   "codemirror_mode": {
    "name": "ipython",
    "version": 3
   },
   "file_extension": ".py",
   "mimetype": "text/x-python",
   "name": "python",
   "nbconvert_exporter": "python",
   "pygments_lexer": "ipython3",
   "version": "3.10.13"
  }
 },
 "nbformat": 4,
 "nbformat_minor": 5
}
