{
 "cells": [
  {
   "cell_type": "markdown",
   "id": "244f252f-706a-4038-85c7-940f9b09c0c2",
   "metadata": {},
   "source": [
    "# Light curve analysis\n",
    "\n",
    "## This section is largely based on the astropy documentation\n",
    "\n",
    "The Lomb-Scargle periodogram is a commonly\n",
    "used statistical tool designed to detect periodic signals in unevenly spaced\n",
    "observations. The [LombScargle](https://docs.astropy.org/en/stable/timeseries/lombscargle.html) class is a unified\n",
    "interface to several implementations of the Lomb-Scargle periodogram, including\n",
    "a fast *O[NlogN]* implementation following the algorithm presented by Press &\n",
    "Rybicki.\n",
    "\n",
    "For a detailed practical discussion of the\n",
    "Lomb-Scargle periodogram, with code examples based on ``astropy``, see\n",
    "*Understanding the Lomb-Scargle Periodogram*, with associated code at\n",
    "https://github.com/jakevdp/PracticalLombScargle/."
   ]
  },
  {
   "cell_type": "markdown",
   "id": "f45cff25-de4d-4af2-b93b-2a1f4e1f851d",
   "metadata": {},
   "source": [
    "### Something preliminary definitions\n",
    "\n",
    "We import a few things here and define a function that will be used to generate sine wave models."
   ]
  },
  {
   "cell_type": "code",
   "execution_count": null,
   "id": "988a221e-5251-4ddf-ba6e-08158c955776",
   "metadata": {},
   "outputs": [],
   "source": [
    "from astropy.time import Time\n",
    "from astropy.timeseries import TimeSeries\n",
    "from astropy import units as u\n",
    "\n",
    "%matplotlib widget\n",
    "import matplotlib.pyplot as plt\n",
    "\n",
    "import numpy as np\n",
    "\n",
    "def input_signal(time, frequencies=None, amplitudes=None):\n",
    "    if frequencies is None:\n",
    "        frequencies = [1, np.pi/2]\n",
    "    if amplitudes is None:\n",
    "        amplitudes = [1, 0.1]\n",
    "        \n",
    "    # Make an array of zeros for each time\n",
    "    y = np.zeros_like(time)\n",
    "    \n",
    "    # Build a model from the amplitudes and frequencies \n",
    "    for amp, frequ in zip(amplitudes, frequencies):\n",
    "        y = y + amp * np.sin(2 * np.pi * time * frequ)\n",
    "        \n",
    "    return y\n",
    "    \n",
    "# np.sin(2 * np.pi * t / freq) + 0.1 * rand.standard_normal(100)"
   ]
  },
  {
   "cell_type": "markdown",
   "id": "f40632ed-46fc-439a-ae04-dbe13963cab6",
   "metadata": {},
   "source": [
    "### Example -- sine wave input\n",
    "\n",
    "To detect periodic signals in unevenly spaced observations, consider the\n",
    "following data:"
   ]
  },
  {
   "cell_type": "code",
   "execution_count": null,
   "id": "50184d29-4ab4-4a40-ab25-d1cf8e0bf699",
   "metadata": {},
   "outputs": [],
   "source": [
    "n_samples = 100\n",
    "frequency = [1]\n",
    "amplitude = [1]\n",
    "\n",
    "rand = np.random.default_rng(42)\n",
    "\n",
    "t = 100 * rand.random(n_samples)\n",
    "noise = 0.05 * rand.standard_normal()\n",
    "input_sig = input_signal(t, frequencies=frequency, amplitudes=amplitude)\n",
    "y = input_sig + noise"
   ]
  },
  {
   "cell_type": "markdown",
   "id": "dbf4de45-c15c-475d-bbce-aebd797d696d",
   "metadata": {},
   "source": [
    "These are 100 noisy measurements taken at irregular times, with a frequency\n",
    "of 1 cycle per unit time."
   ]
  },
  {
   "cell_type": "code",
   "execution_count": null,
   "id": "c69cf23b-7655-4982-b91d-a39988595a32",
   "metadata": {},
   "outputs": [],
   "source": [
    "plt.figure()\n",
    "plt.plot(t, y, 'o', label='data')\n",
    "even_times = np.linspace(0, 100, num=10000)\n",
    "plt.plot(even_times, input_signal(even_times, frequencies=frequency, amplitudes=amplitude), \n",
    "         label='input signal')\n",
    "plt.legend(loc='upper right')\n",
    "plt.xlabel('Time')\n",
    "plt.ylabel('Amplitude')\n",
    "plt.title('Model with single frequency')\n",
    "# plt.xlim(0, 10)\n",
    "plt.grid()"
   ]
  },
  {
   "cell_type": "markdown",
   "id": "a711ecf7-9866-4b13-a55b-e5f3d119b416",
   "metadata": {},
   "source": [
    "The Lomb-Scargle periodogram, evaluated at frequencies chosen\n",
    "automatically based on the input data, can be computed as follows\n",
    "using the `LombScargle` class:"
   ]
  },
  {
   "cell_type": "code",
   "execution_count": null,
   "id": "c6f85eaa-c3ae-488b-97ed-2cc3c1588811",
   "metadata": {},
   "outputs": [],
   "source": [
    "from astropy.timeseries import LombScargle\n",
    "\n",
    "ls = LombScargle(t, y)\n",
    "frequency, power = ls.autopower(maximum_frequency=5, samples_per_peak=20)"
   ]
  },
  {
   "cell_type": "markdown",
   "id": "462560ff-4c87-494d-9a32-55e0dd17b368",
   "metadata": {},
   "source": [
    "Plotting the result with Matplotlib gives:"
   ]
  },
  {
   "cell_type": "code",
   "execution_count": null,
   "id": "61dc6fd6-f6db-4ade-a734-148f84d5247e",
   "metadata": {},
   "outputs": [],
   "source": [
    "plt.figure()\n",
    "plt.plot(frequency, power)   \n",
    "plt.xlabel('Frequency (1/day)')\n",
    "plt.ylabel('Power')\n",
    "plt.grid()"
   ]
  },
  {
   "cell_type": "markdown",
   "id": "22869768-a5b0-4165-8f72-e21e374fe788",
   "metadata": {},
   "source": [
    "The power is normalized so that a power of 1 represents an excellent fit of a sine wave of that frequency to the data, and zero means a sine wave of that frequency does not fit the data.\n",
    "\n",
    "We should expect a peak at a frequency of 1 cycle per day -- that was the frequency we put in initially.\n",
    "\n",
    "The peak is not actually quite at 1."
   ]
  },
  {
   "cell_type": "code",
   "execution_count": null,
   "id": "25a07385-d2df-445c-81ea-ca18962a8fb0",
   "metadata": {},
   "outputs": [],
   "source": [
    "f_max = frequency[np.argmax(power)]\n",
    "print(f_max)"
   ]
  },
  {
   "cell_type": "markdown",
   "id": "82d53db2-9650-46b8-b770-3626685f4253",
   "metadata": {},
   "source": [
    "### Check the Lomb-Scargle model\n",
    "\n",
    "We can use the `LombScargle` object to generate the best fitting sine wave to our data at a particular frequency. "
   ]
  },
  {
   "cell_type": "code",
   "execution_count": null,
   "id": "bc243dd7-3b0f-4013-aaea-5935a8f7add0",
   "metadata": {},
   "outputs": [],
   "source": [
    "ls_model = ls.model(t, f_max)"
   ]
  },
  {
   "cell_type": "code",
   "execution_count": null,
   "id": "8450a370-4f03-493e-8c73-4a56d7c67077",
   "metadata": {},
   "outputs": [],
   "source": [
    "plt.figure()\n",
    "plt.plot(t, y, '.', label='data')\n",
    "plt.plot(even_times, ls.model(even_times, f_max), label='Best fit from LS')\n",
    "plt.xlabel('Time')\n",
    "plt.ylabel('Amplitude')\n",
    "plt.legend(loc='upper right')\n",
    "plt.grid()"
   ]
  },
  {
   "cell_type": "markdown",
   "id": "223760dc-6ced-41b6-a89d-e45a0d387fab",
   "metadata": {},
   "source": [
    "### Residual after removing the model (aka pre-whitening)"
   ]
  },
  {
   "cell_type": "markdown",
   "id": "b5a73b2c-59c0-44a6-846d-a62780c86007",
   "metadata": {},
   "source": [
    "That looks reasonably good, but let's take a look at the residual, which is the difference between the LS model and the data."
   ]
  },
  {
   "cell_type": "code",
   "execution_count": null,
   "id": "3054a25c-1ede-40f7-8f18-1eed4984bfdd",
   "metadata": {},
   "outputs": [],
   "source": [
    "residual = y - ls.model(t, f_max)"
   ]
  },
  {
   "cell_type": "code",
   "execution_count": null,
   "id": "351c3ab3-4b6b-4516-b037-30b19fe7a1de",
   "metadata": {},
   "outputs": [],
   "source": [
    "plt.figure()\n",
    "plt.plot(t, residual, '.')\n",
    "plt.xlabel('Time (days)')\n",
    "plt.ylabel('Amplitude of residual')\n",
    "plt.grid()"
   ]
  },
  {
   "cell_type": "markdown",
   "id": "92a97d1f-6db9-40f5-8810-c3316dd59f92",
   "metadata": {},
   "source": [
    "#### Find the periodogram of the residual\n",
    "\n",
    "It looks like there is still some regular signal in the residuals, so let's find the periodogram of the residual."
   ]
  },
  {
   "cell_type": "code",
   "execution_count": null,
   "id": "395ff380-8fc6-41d3-8cc0-ddbfca91dbf3",
   "metadata": {},
   "outputs": [],
   "source": [
    "frequency_resid, power_resid = LombScargle(t, residual).autopower(maximum_frequency=5, samples_per_peak=20)"
   ]
  },
  {
   "cell_type": "code",
   "execution_count": null,
   "id": "5d483605-5b22-4422-a9d4-21ac43eaedbf",
   "metadata": {},
   "outputs": [],
   "source": [
    "plt.figure()\n",
    "plt.plot(frequency_resid, power_resid)      \n",
    "plt.grid()\n",
    "plt.xlabel('Frequency (1/day)')\n",
    "plt.ylabel('Power')\n",
    "plt.title('Periodogram ofresidual after removing best fit sine')"
   ]
  },
  {
   "cell_type": "markdown",
   "id": "d7b67038-4ccb-4814-b903-76511464a1d7",
   "metadata": {},
   "source": [
    "The tall peak near one day is because the frequency we got from Lomb-Scargle was close, but not quite equal to, the frequency that we put into the signal."
   ]
  },
  {
   "cell_type": "markdown",
   "id": "0bf4cbfc-f7fb-400c-bf39-1e8b623a3f93",
   "metadata": {},
   "source": [
    "## Example -- two sine wave input\n",
    "\n",
    "We repeat the exercise above, but now with an input model that is a combination of two sine waves, one with frequency 1/day and one with frequency 1.7/day. The amplitude of the second frequency we set to 1/10th the amplitude of the main sine wave"
   ]
  },
  {
   "cell_type": "code",
   "execution_count": null,
   "id": "22b7d092-c49b-46f8-9432-7a9d8e260c15",
   "metadata": {},
   "outputs": [],
   "source": [
    "n_samples = 100\n",
    "frequency = [1, 1.7]\n",
    "amplitude = [1, 0.1]\n",
    "\n",
    "rand = np.random.default_rng(42)\n",
    "\n",
    "t = 100 * rand.random(n_samples)\n",
    "noise = 0.05 * rand.standard_normal()\n",
    "input_sig = input_signal(t, frequencies=frequency, amplitudes=amplitude)\n",
    "y = input_sig + noise"
   ]
  },
  {
   "cell_type": "code",
   "execution_count": null,
   "id": "4fb7b41e-3790-43a9-98c2-43c6c21998b7",
   "metadata": {},
   "outputs": [],
   "source": [
    "plt.figure()\n",
    "plt.plot(t, y, 'o', label='data')\n",
    "even_times = np.linspace(0, 100, num=10000)\n",
    "plt.plot(even_times, input_signal(even_times, frequencies=frequency, amplitudes=amplitude), \n",
    "         label='input signal')\n",
    "plt.legend(loc='upper right')\n",
    "plt.xlabel('Time')\n",
    "plt.ylabel('Amplitude')\n",
    "plt.title('Model with two input frequencies')\n",
    "# plt.xlim(0, 10)\n",
    "plt.grid()"
   ]
  },
  {
   "cell_type": "markdown",
   "id": "1e94139d-92e6-40d8-8ac6-841b95795a37",
   "metadata": {},
   "source": [
    "The Lomb-Scargle periodogram, evaluated at frequencies chosen\n",
    "automatically based on the input data, can be computed as follows\n",
    "using the `LombScargle` class:"
   ]
  },
  {
   "cell_type": "code",
   "execution_count": null,
   "id": "af54e7d8-7f42-4f22-8c7d-9990199e863b",
   "metadata": {},
   "outputs": [],
   "source": [
    "from astropy.timeseries import LombScargle\n",
    "\n",
    "ls = LombScargle(t, y)\n",
    "frequency, power = ls.autopower(maximum_frequency=5, samples_per_peak=20)"
   ]
  },
  {
   "cell_type": "markdown",
   "id": "5d5ee2e8-fb73-4c38-ae31-2eff248e560e",
   "metadata": {},
   "source": [
    "Plotting the result with Matplotlib gives:"
   ]
  },
  {
   "cell_type": "code",
   "execution_count": null,
   "id": "fba6359c-d77e-4efb-9063-051629d605e4",
   "metadata": {},
   "outputs": [],
   "source": [
    "plt.figure()\n",
    "plt.plot(frequency, power)   \n",
    "plt.xlabel('Frequency (1/day)')\n",
    "plt.ylabel('Power')\n",
    "plt.title('Periodogram, signal with two frequencies')\n",
    "plt.grid()"
   ]
  },
  {
   "cell_type": "markdown",
   "id": "60989b8b-7aa4-421f-a54c-32ca86333f5d",
   "metadata": {},
   "source": [
    "The power is normalized so that a power of 1 represents an excellent fit of a sine wave of that frequency to the data, and zero means a sine wave of that frequency does not fit the data.\n",
    "\n",
    "We should expect a peak at a frequency of 1 cycle per day -- that was the frequency we put in initially.\n",
    "\n",
    "The peak is not actually quite at 1."
   ]
  },
  {
   "cell_type": "code",
   "execution_count": null,
   "id": "6103ea5f-9d47-4332-af82-4dc2ac79d305",
   "metadata": {},
   "outputs": [],
   "source": [
    "f_max = frequency[np.argmax(power)]\n",
    "print(f_max)"
   ]
  },
  {
   "cell_type": "markdown",
   "id": "6b5b5a34-18e6-4413-b911-daef2f5bfe42",
   "metadata": {},
   "source": [
    "### Check the Lomb-Scargle model\n",
    "\n",
    "We can use the `LombScargle` object to generate the best fitting sine wave to our data at a particular frequency. "
   ]
  },
  {
   "cell_type": "code",
   "execution_count": null,
   "id": "968ec0f4-d90a-46d9-af89-7fbc1d85fce6",
   "metadata": {},
   "outputs": [],
   "source": [
    "ls_model = ls.model(t, f_max)"
   ]
  },
  {
   "cell_type": "code",
   "execution_count": null,
   "id": "bcfee45a-8840-4526-b9b7-9127e05e262c",
   "metadata": {},
   "outputs": [],
   "source": [
    "plt.figure()\n",
    "plt.plot(t, y, '.')\n",
    "plt.plot(even_times, ls.model(even_times, f_max), label='Best fit from LS')\n",
    "plt.xlabel('Time')\n",
    "plt.ylabel('Amplitude')\n",
    "plt.legend(loc='upper right')\n",
    "plt.grid()"
   ]
  },
  {
   "cell_type": "markdown",
   "id": "5eae308b-9073-40a9-bfb1-b670f0164654",
   "metadata": {},
   "source": [
    "### Residual after removing the model (aka pre-whitening)"
   ]
  },
  {
   "cell_type": "markdown",
   "id": "f33431ae-60cd-44e4-b9a8-85402ecf7622",
   "metadata": {},
   "source": [
    "That looks reasonably good, but let's take a look at the residual, which is the difference between the LS model and the data."
   ]
  },
  {
   "cell_type": "code",
   "execution_count": null,
   "id": "0ce2586e-032a-4fe0-86a8-37e445636df8",
   "metadata": {},
   "outputs": [],
   "source": [
    "residual = y - ls.model(t, f_max)"
   ]
  },
  {
   "cell_type": "code",
   "execution_count": null,
   "id": "beb727b4-9ae1-4086-9fdd-bc702daca30b",
   "metadata": {},
   "outputs": [],
   "source": [
    "plt.figure()\n",
    "plt.plot(t, residual, '.')\n",
    "plt.xlabel('Time (days)')\n",
    "plt.ylabel('Amplitude of residual')\n",
    "plt.grid()"
   ]
  },
  {
   "cell_type": "markdown",
   "id": "34e24b35-f0aa-449f-a5a1-a848d6202e64",
   "metadata": {},
   "source": [
    "#### Find the periodogram of the residual\n",
    "\n",
    "It looks like there is still some regular signal in the residuals, so let's find the periodogram of the residual."
   ]
  },
  {
   "cell_type": "code",
   "execution_count": null,
   "id": "53512ae4-9c94-4ca4-b1a3-8e170437971a",
   "metadata": {},
   "outputs": [],
   "source": [
    "frequency_resid, power_resid = LombScargle(t, residual).autopower(maximum_frequency=5, samples_per_peak=20)"
   ]
  },
  {
   "cell_type": "code",
   "execution_count": null,
   "id": "f057ae87-c0b6-4c0b-bbe9-a406db6ea010",
   "metadata": {},
   "outputs": [],
   "source": [
    "plt.figure()\n",
    "plt.plot(frequency_resid, power_resid)      \n",
    "plt.grid()"
   ]
  },
  {
   "cell_type": "code",
   "execution_count": null,
   "id": "87327650-82cb-4bb3-941b-8fd372b9452e",
   "metadata": {},
   "outputs": [],
   "source": [
    "f_max_resid = frequency[np.argmax(power_resid)]\n",
    "f_max_resid"
   ]
  },
  {
   "cell_type": "markdown",
   "id": "54c9c1ea-bf70-4ed7-a1c8-a3df0159ea54",
   "metadata": {},
   "source": [
    "This is very close to the second frequency we put into to the signal, 1.7/day!"
   ]
  },
  {
   "cell_type": "code",
   "execution_count": null,
   "id": "67beebab-1555-462d-a2de-cf498a961577",
   "metadata": {},
   "outputs": [],
   "source": []
  }
 ],
 "metadata": {
  "kernelspec": {
   "display_name": "Python 3 (ipykernel)",
   "language": "python",
   "name": "python3"
  },
  "language_info": {
   "codemirror_mode": {
    "name": "ipython",
    "version": 3
   },
   "file_extension": ".py",
   "mimetype": "text/x-python",
   "name": "python",
   "nbconvert_exporter": "python",
   "pygments_lexer": "ipython3",
   "version": "3.10.13"
  }
 },
 "nbformat": 4,
 "nbformat_minor": 5
}
