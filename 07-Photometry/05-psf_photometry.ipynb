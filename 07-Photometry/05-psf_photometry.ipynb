{
 "cells": [
  {
   "cell_type": "markdown",
   "metadata": {},
   "source": [
    "<img src=\"data/photutils_banner.svg\" width=500 alt=\"Photutils logo\" style=\"margin-left: 0;\">"
   ]
  },
  {
   "cell_type": "markdown",
   "metadata": {},
   "source": [
    "<div class=\"alert alert-block alert-info\">\n",
    "<h2 style=\"margin-top: 0\">In this notebook, we will cover:</h2>\n",
    "\n",
    "- PSF photometry using simulated 2D Gaussian PSFs, using:\n",
    "    - BasicPSFPhotometry\n",
    "    - IterativelySubtractedPSFPhotometry\n",
    "    - DAOPhotPSFPhotometry\n",
    "</div>"
   ]
  },
  {
   "cell_type": "markdown",
   "metadata": {},
   "source": [
    "# Preliminaries"
   ]
  },
  {
   "cell_type": "code",
   "execution_count": null,
   "metadata": {},
   "outputs": [],
   "source": [
    "# Initial imports\n",
    "import numpy as np\n",
    "import matplotlib.pyplot as plt\n",
    "\n",
    "# Change some default plotting parameters\n",
    "import matplotlib as mpl\n",
    "mpl.rcParams['image.origin'] = 'lower'\n",
    "mpl.rcParams['image.interpolation'] = 'nearest'\n",
    "\n",
    "# Run the %matplotlib magic command to enable inline plotting\n",
    "# in the current notebook.  Choose one of these:\n",
    "%matplotlib inline\n",
    "# %matplotlib notebook"
   ]
  },
  {
   "cell_type": "markdown",
   "metadata": {},
   "source": [
    "# Point Spread Function Photometry with Photutils\n",
    "\n",
    "The Photutils PSF photometry module provides modular tools that allow users to completely customize the photometry procedure, e.g., by using different source detection algorithms, background estimators, and PSF models. Photutils provides implementations for each subtask involved in the photometry process, however, users are still able to include their own custom implementations.\n",
    "\n",
    "This modularity is accomplished by using an object oriented programming approach that provides a more convenient user experience.\n",
    "\n",
    "Photutils provides three basic classes to perform PSF photometry: `BasicPSFPhotometry`, `IterativelySubtractedPSFPhotometry`, and `DAOPhotPSFPhotometry`. In this notebook, we will go through them, explaining their differences and particular uses."
   ]
  },
  {
   "cell_type": "markdown",
   "metadata": {},
   "source": [
    "# Artificial Starlist"
   ]
  },
  {
   "cell_type": "markdown",
   "metadata": {},
   "source": [
    "Let's start by creating an artificial list of stars using Photutils in order to explain the PSF procedures through examples."
   ]
  },
  {
   "cell_type": "code",
   "execution_count": null,
   "metadata": {},
   "outputs": [],
   "source": [
    "from photutils.datasets import (make_gaussian_sources_image, make_noise_image,\n",
    "                                make_random_gaussians_table)\n",
    "\n",
    "num_sources = 150\n",
    "min_flux = 500\n",
    "max_flux = 5000\n",
    "min_xmean = 16\n",
    "max_xmean = 240\n",
    "sigma_psf = 2.0\n",
    "\n",
    "param_ranges = dict([('flux', [500, 1000]),\n",
    "                     ('x_mean', [min_xmean, max_xmean]),\n",
    "                     ('y_mean', [min_xmean, max_xmean]),\n",
    "                     ('x_stddev', [sigma_psf, sigma_psf]),\n",
    "                     ('y_stddev', [sigma_psf, sigma_psf]),\n",
    "                     ('theta', [0, np.pi])])\n",
    "starlist = make_random_gaussians_table(num_sources, param_ranges,\n",
    "                                       seed=1234)"
   ]
  },
  {
   "cell_type": "markdown",
   "metadata": {},
   "source": [
    "`starlist` is an Astropy `QTable`."
   ]
  },
  {
   "cell_type": "code",
   "execution_count": null,
   "metadata": {},
   "outputs": [],
   "source": [
    "type(starlist)"
   ]
  },
  {
   "cell_type": "code",
   "execution_count": null,
   "metadata": {},
   "outputs": [],
   "source": [
    "starlist"
   ]
  },
  {
   "cell_type": "markdown",
   "metadata": {},
   "source": [
    "Most source lists in Photutils are returned or passed in as `astropy` `Table` objects, so this is something to get used to."
   ]
  },
  {
   "cell_type": "markdown",
   "metadata": {},
   "source": [
    "Now let's create an image from this source list.\n",
    "\n",
    "We'll also add Gaussian background noise with the function `make_noise_image`."
   ]
  },
  {
   "cell_type": "code",
   "execution_count": null,
   "metadata": {},
   "outputs": [],
   "source": [
    "shape = (256, 256)\n",
    "image = (make_gaussian_sources_image(shape, starlist) +\n",
    "         make_noise_image(shape, distribution='gaussian', mean=0.0, stddev=2.0, seed=1234))"
   ]
  },
  {
   "cell_type": "markdown",
   "metadata": {},
   "source": [
    "Let's plot our image of simulated stars."
   ]
  },
  {
   "cell_type": "code",
   "execution_count": null,
   "metadata": {},
   "outputs": [],
   "source": [
    "fig = plt.figure(figsize=(10, 10))\n",
    "plt.imshow(image)\n",
    "plt.title('Simulated data')\n",
    "plt.colorbar(orientation='horizontal', fraction=0.046, pad=0.04);"
   ]
  },
  {
   "cell_type": "markdown",
   "metadata": {},
   "source": [
    "# The `BasicPSFPhotometry` class"
   ]
  },
  {
   "cell_type": "markdown",
   "metadata": {},
   "source": [
    "As the name suggests, this is a basic class which provides the minimum tools necessary to perform photometry in crowded fields (or non crowded fields). Let's take a look into its input parameters."
   ]
  },
  {
   "cell_type": "markdown",
   "metadata": {},
   "source": [
    "`BasicPSFPhotometry` has the following mandatory parameters:\n",
    "\n",
    "* group_maker : callable or instance of any `GroupStarsBase` subclass\n",
    "* bkg_estimator : callable, instance of any `BackgroundBase` subclass, or None\n",
    "* psf_model : `astropy.modeling.Fittable2DModel` instance\n",
    "* fitshape : integer or length-2 array-like"
   ]
  },
  {
   "cell_type": "markdown",
   "metadata": {},
   "source": [
    "And the following optional parameters:\n",
    "\n",
    "* finder : callable or instance of any `StarFinderBase` subclasses or None\n",
    "* fitter : Astropy Fitter instance\n",
    "* aperture_radius : float or int\n",
    "* subshape: Rectangular shape around the center of a star that will be used to define the PSF-subtraction region."
   ]
  },
  {
   "cell_type": "markdown",
   "metadata": {},
   "source": [
    "## Group Maker"
   ]
  },
  {
   "cell_type": "markdown",
   "metadata": {},
   "source": [
    "`group_maker` can be instantiated using any `GroupStarBase` subclass, such as `DAOGroup` or `DBSCANGroup`, or even using a `callable` provided by the user."
   ]
  },
  {
   "cell_type": "markdown",
   "metadata": {},
   "source": [
    "[DAOGroup](https://photutils.readthedocs.io/en/stable/api/photutils.psf.DAOGroup.html#photutils.psf.DAOGroup) is a class that implements the `GROUP` algorithm proposed by Stetson and used in DAOPHOT. This class takes one parameter, namely:\n",
    "\n",
    "* `crit_separation` : Distance, in units of pixels, such that any two stars separated by less than this distance will be placed in the same group.\n",
    "\n",
    "`crit_separation` plays a crucial role in deciding whether or not a given star belongs to some group of stars. Usually, `crit_separation` is set to be a positive real number multiplied by the FWHM of the PSF."
   ]
  },
  {
   "cell_type": "markdown",
   "metadata": {},
   "source": [
    "[DBSCANGroup](https://photutils.readthedocs.io/en/stable/api/photutils.psf.DBSCANGroup.html#photutils.psf.DBSCANGroup) is a generalized case of `DAOGroup` (it is a wrapper around the `sklearn.cluster.DBSCAN` class). Its usage is very similar to `DAOGroup`."
   ]
  },
  {
   "cell_type": "markdown",
   "metadata": {},
   "source": [
    "Grouping examples are available in the [Grouping Algorithms](https://photutils.readthedocs.io/en/stable/grouping.html) documentation."
   ]
  },
  {
   "cell_type": "markdown",
   "metadata": {},
   "source": [
    "Let's instantiate a `group_maker` from `DAOGroup`."
   ]
  },
  {
   "cell_type": "code",
   "execution_count": null,
   "metadata": {},
   "outputs": [],
   "source": [
    "from astropy.stats import gaussian_sigma_to_fwhm\n",
    "from photutils import psf\n",
    "\n",
    "daogroup = psf.DAOGroup(crit_separation=2.0 * sigma_psf * gaussian_sigma_to_fwhm)"
   ]
  },
  {
   "cell_type": "markdown",
   "metadata": {},
   "source": [
    "Now, the `daogroup` object is ready to be passed to `BasicPSFPhotometry`."
   ]
  },
  {
   "cell_type": "markdown",
   "metadata": {},
   "source": [
    "## Background Estimation"
   ]
  },
  {
   "cell_type": "markdown",
   "metadata": {},
   "source": [
    "Photutils provides several classes to perform both scalar background estimation, i.e., when the background is flat and does not vary strongly across the image, and spatial varying background estimation, i.e., when there exists a gradient field associated with the background. Please refer to to the Photutils [background estimation](https://photutils.readthedocs.io/en/stable/background.html) documentation for examples."
   ]
  },
  {
   "cell_type": "markdown",
   "metadata": {},
   "source": [
    "In this notebook, we will use the class `MMMBackground` that estimates a scalar background. This class is based on the background estimator used in `DAOPHOT`.\n",
    "\n",
    "`MMMBackground` accepts a `SigmaClip` object to perform sigma clipping on the image before performing background estimation. For this example, we will  use a `MMMBackground` object with the default values."
   ]
  },
  {
   "cell_type": "code",
   "execution_count": null,
   "metadata": {},
   "outputs": [],
   "source": [
    "from photutils.background import MMMBackground\n",
    "\n",
    "mmm_bkg = MMMBackground()"
   ]
  },
  {
   "cell_type": "code",
   "execution_count": null,
   "metadata": {},
   "outputs": [],
   "source": [
    "mmm_bkg.sigma_clip.sigma"
   ]
  },
  {
   "cell_type": "code",
   "execution_count": null,
   "metadata": {},
   "outputs": [],
   "source": [
    "mmm_bkg.sigma_clip.maxiters"
   ]
  },
  {
   "cell_type": "markdown",
   "metadata": {},
   "source": [
    "## PSF Models"
   ]
  },
  {
   "cell_type": "markdown",
   "metadata": {},
   "source": [
    "The ``psf_model`` parameter represents an analytical function with unknown parameters (e.g., centroid and flux) that describes the underlying point spread function. ``psf_model`` is usually a subclass of `astropy.modeling.Fittable2DModel`. In this notebook, we will use `IntegratedGaussianPRF` as our underlying PSF model."
   ]
  },
  {
   "cell_type": "markdown",
   "metadata": {},
   "source": [
    "Note that the underlying PSF model must have attributes with the names ``x_0``, ``y_0``, and ``flux``, which describe the center peak position and total flux, respectively."
   ]
  },
  {
   "cell_type": "code",
   "execution_count": null,
   "metadata": {},
   "outputs": [],
   "source": [
    "from photutils.psf import IntegratedGaussianPRF\n",
    "\n",
    "gaussian_psf = IntegratedGaussianPRF(sigma=2.0)"
   ]
  },
  {
   "cell_type": "markdown",
   "metadata": {},
   "source": [
    "## Finder"
   ]
  },
  {
   "cell_type": "markdown",
   "metadata": {},
   "source": [
    "Finder is an optional parameter.  If it is `None`, then the user should provide a table with the center positions of each star when calling the `BasicPSFPhotometry` object.\n",
    "Later, we will see examples cases when `finder` is `None` and when it is not."
   ]
  },
  {
   "cell_type": "markdown",
   "metadata": {},
   "source": [
    "The finder parameter is used to perform source detection. It can be any subclass of `StarFinderBase`, such as `DAOStarFinder` or `IRAFStarFinder`, which implement a DAOPHOT-like or IRAF-like source detection algorithms, respectively. The user can also define their own source detection algorithm as long as the input/output formats are compatible with `StarFinderBase`."
   ]
  },
  {
   "cell_type": "markdown",
   "metadata": {},
   "source": [
    "`DAOStarFinder`, for instance, receives the following mandatory parameters:\n",
    "    \n",
    "* `threshold` : The absolute image value above which to select sources.\n",
    "\n",
    "* `fwhm` : The full-width half-maximum (FWHM) of the major axis of the Gaussian kernel in units of pixels."
   ]
  },
  {
   "cell_type": "markdown",
   "metadata": {},
   "source": [
    "Now, let's instantiate our `DAOStarFinder` object."
   ]
  },
  {
   "cell_type": "code",
   "execution_count": null,
   "metadata": {},
   "outputs": [],
   "source": [
    "from photutils.background import StdBackgroundRMS\n",
    "from photutils.detection import DAOStarFinder\n",
    "\n",
    "bkg_rms = StdBackgroundRMS()\n",
    "threshold = 3.5 * bkg_rms(image)\n",
    "fwhm = sigma_psf * gaussian_sigma_to_fwhm\n",
    "daofinder = DAOStarFinder(threshold=threshold, fwhm=fwhm)"
   ]
  },
  {
   "cell_type": "markdown",
   "metadata": {},
   "source": [
    "Note that we choose the `threshold` to be a multiple of the background noise level and we assumed the `fwhm` to be known from our list of stars."
   ]
  },
  {
   "cell_type": "markdown",
   "metadata": {},
   "source": [
    "More details about source detection can be found on the `photutils.detection` narrative docs: https://photutils.readthedocs.io/en/stable/detection.html"
   ]
  },
  {
   "cell_type": "markdown",
   "metadata": {},
   "source": [
    "## Fitter"
   ]
  },
  {
   "cell_type": "markdown",
   "metadata": {},
   "source": [
    "Fitter should be an instance of a fitter implemented in `astropy.modeling.fitting`. Since the PSF model is almost always nonlinear, the fitter should be able to handle nonlinear optimization problems. In this notebook, we will use  `LevMarLSQFitter`, which combines the Levenberg-Marquardt optimization algorithm with the least-squares statistic.\n",
    "\n",
    "See at [Astropy Models and Fitting](https://docs.astropy.org/en/stable/modeling/index.html) for more details on fitting."
   ]
  },
  {
   "cell_type": "markdown",
   "metadata": {},
   "source": [
    "## Fitshape and Aperture Radius"
   ]
  },
  {
   "cell_type": "markdown",
   "metadata": {},
   "source": [
    "There are three parameters left: `fitshape` (required), and `aperture_radius` and `subshape` (optional).\n",
    "\n",
    "`fitshape` corresponds to the size of the rectangular region necessary to enclose one single source. The pixels inside that region will be used in the fitting process. `fitshape` should be an odd integer or a tuple of odd integers.\n",
    "\n",
    "The aperture radius corresponds to the radius used to compute initial guesses for the fluxes of the sources. If this value is `None`, then one FWHM will be used if it can be determined by the `psf_model`.\n",
    "\n",
    "`subshape` is shape around the center of a star that will be used to define the PSF-subtraction region. By default, it is the same as `fitshape`."
   ]
  },
  {
   "cell_type": "code",
   "execution_count": null,
   "metadata": {},
   "outputs": [],
   "source": [
    "fitshape = 11"
   ]
  },
  {
   "cell_type": "markdown",
   "metadata": {},
   "source": [
    "## Example with unknown positions and unknown fluxes"
   ]
  },
  {
   "cell_type": "markdown",
   "metadata": {},
   "source": [
    "Now we are ready to take a look at an actual example. Let's first create our `BasicPSFPhotometry` object putting together the pieces that we defined along the way."
   ]
  },
  {
   "cell_type": "code",
   "execution_count": null,
   "metadata": {},
   "outputs": [],
   "source": [
    "from photutils.psf import BasicPSFPhotometry\n",
    "\n",
    "basic_photometry = BasicPSFPhotometry(group_maker=daogroup, bkg_estimator=mmm_bkg,\n",
    "                                      psf_model=gaussian_psf, fitshape=fitshape,\n",
    "                                      finder=daofinder)"
   ]
  },
  {
   "cell_type": "markdown",
   "metadata": {},
   "source": [
    "To actually perform photometry on our image that we defined previously, we should use `basic_photometry` as a function call:"
   ]
  },
  {
   "cell_type": "code",
   "execution_count": null,
   "metadata": {},
   "outputs": [],
   "source": [
    "photometry_results = basic_photometry(image)\n",
    "photometry_results"
   ]
  },
  {
   "cell_type": "markdown",
   "metadata": {},
   "source": [
    "Let's plot the residual image along with the original image:"
   ]
  },
  {
   "cell_type": "code",
   "execution_count": null,
   "metadata": {},
   "outputs": [],
   "source": [
    "fig, (ax1, ax2) = plt.subplots(1, 2, figsize=(10, 10))\n",
    "\n",
    "im1 = ax1.imshow(image)\n",
    "ax1.set_title('Simulated data')\n",
    "plt.colorbar(orientation='horizontal', fraction=0.046, pad=0.04,\n",
    "             ax=ax1, mappable=im1)\n",
    "\n",
    "im2 = ax2.imshow(basic_photometry.get_residual_image())\n",
    "ax2.set_title('Residual Image')\n",
    "cbar = plt.colorbar(orientation='horizontal', fraction=0.046, pad=0.04,\n",
    "                    ax=ax2, mappable=im2)"
   ]
  },
  {
   "cell_type": "markdown",
   "metadata": {},
   "source": [
    "Looking at the residual image we observe that the photometry process was able to fit many stars but not all. This is probably due to inability of the source detection algorithm to decide the number of sources in every crowded group. Therefore, let's play with the source detection classes to see whether we can improve the photometry process."
   ]
  },
  {
   "cell_type": "markdown",
   "metadata": {},
   "source": [
    "Let's use the `IRAFStarFinder` and change some of the optional parameters. A complete description of these parameters can be seen at the `photutils.detection` API documentation: https://photutils.readthedocs.io/en/stable/api/photutils.detection.IRAFStarFinder.html#photutils.detection.IRAFStarFinder"
   ]
  },
  {
   "cell_type": "code",
   "execution_count": null,
   "metadata": {},
   "outputs": [],
   "source": [
    "from photutils.detection import IRAFStarFinder\n",
    "\n",
    "iraffind = IRAFStarFinder(threshold=threshold,\n",
    "                          fwhm=sigma_psf*gaussian_sigma_to_fwhm,\n",
    "                          minsep_fwhm=0.01, roundhi=5.0, roundlo=-5.0,\n",
    "                          sharplo=0.0, sharphi=2.0)"
   ]
  },
  {
   "cell_type": "markdown",
   "metadata": {},
   "source": [
    "Now let's set the `finder` attribute of our `BasicPSFPhotometry` object with `iraffind`:"
   ]
  },
  {
   "cell_type": "code",
   "execution_count": null,
   "metadata": {},
   "outputs": [],
   "source": [
    "basic_photometry.finder = iraffind"
   ]
  },
  {
   "cell_type": "markdown",
   "metadata": {},
   "source": [
    "Let's repeat the photometry process:"
   ]
  },
  {
   "cell_type": "code",
   "execution_count": null,
   "metadata": {},
   "outputs": [],
   "source": [
    "photometry_results = basic_photometry(image)\n",
    "photometry_results"
   ]
  },
  {
   "cell_type": "code",
   "execution_count": null,
   "metadata": {},
   "outputs": [],
   "source": [
    "fig, (ax1, ax2) = plt.subplots(1, 2, figsize=(10, 10))\n",
    "\n",
    "im1 = ax1.imshow(image)\n",
    "ax1.set_title('Simulated data')\n",
    "plt.colorbar(orientation='horizontal', fraction=0.046, pad=0.04,\n",
    "             ax=ax1, mappable=im1)\n",
    "\n",
    "im2 = ax2.imshow(basic_photometry.get_residual_image())\n",
    "ax2.set_title('Residual Image')\n",
    "plt.colorbar(orientation='horizontal', fraction=0.046, pad=0.04,\n",
    "             ax=ax2, mappable=im2)"
   ]
  },
  {
   "cell_type": "markdown",
   "metadata": {},
   "source": [
    "As we can see, the residuals are better with only four groups that were not fitted well. The reason for that is that the sources may be too close to be distinguishable by the source detection algorithm."
   ]
  },
  {
   "cell_type": "markdown",
   "metadata": {},
   "source": [
    "## Example with known positions and unknown fluxes"
   ]
  },
  {
   "cell_type": "markdown",
   "metadata": {},
   "source": [
    "Let's assume that somehow we know the true positions of the stars and we only would like to perform fitting on the fluxes. Then we should use the optional argument `init_guesses` when calling the photometry object:"
   ]
  },
  {
   "cell_type": "code",
   "execution_count": null,
   "metadata": {},
   "outputs": [],
   "source": [
    "from astropy.table import Table\n",
    "\n",
    "positions = Table(names=['x_0', 'y_0'], data=[starlist['x_mean'], starlist['y_mean']])"
   ]
  },
  {
   "cell_type": "markdown",
   "metadata": {},
   "source": [
    "First, we turn off the star finder."
   ]
  },
  {
   "cell_type": "code",
   "execution_count": null,
   "metadata": {},
   "outputs": [],
   "source": [
    "basic_photometry.finder = None"
   ]
  },
  {
   "cell_type": "markdown",
   "metadata": {},
   "source": [
    "Next, we must fix the PSF model x and y positions during the fitting."
   ]
  },
  {
   "cell_type": "code",
   "execution_count": null,
   "metadata": {},
   "outputs": [],
   "source": [
    "basic_photometry.psf_model.x_0.fixed = True\n",
    "basic_photometry.psf_model.y_0.fixed = True"
   ]
  },
  {
   "cell_type": "code",
   "execution_count": null,
   "metadata": {},
   "outputs": [],
   "source": [
    "photometry_results = basic_photometry(image=image, init_guesses=positions)"
   ]
  },
  {
   "cell_type": "code",
   "execution_count": null,
   "metadata": {},
   "outputs": [],
   "source": [
    "fig, (ax1, ax2) = plt.subplots(1, 2, figsize=(10, 10))\n",
    "\n",
    "im1 = ax1.imshow(image)\n",
    "ax1.set_title('Simulated data')\n",
    "plt.colorbar(orientation='horizontal', fraction=0.046, pad=0.04,\n",
    "             ax=ax1, mappable=im1)\n",
    "\n",
    "im2 = ax2.imshow(basic_photometry.get_residual_image())\n",
    "ax2.set_title('Residual Image')\n",
    "plt.colorbar(orientation='horizontal', fraction=0.046, pad=0.04,\n",
    "             ax=ax2, mappable=im2)"
   ]
  },
  {
   "cell_type": "markdown",
   "metadata": {},
   "source": [
    "Let's do a scatter plot between ground-truth fluxes and estimated fluxes:"
   ]
  },
  {
   "cell_type": "code",
   "execution_count": null,
   "metadata": {},
   "outputs": [],
   "source": [
    "photometry_results.sort('id')\n",
    "plt.scatter(starlist['flux'], photometry_results['flux_fit'])\n",
    "plt.xlabel('Ground-truth fluxes')\n",
    "plt.ylabel('PSF Measured fluxes')\n",
    "x = np.linspace(500, 1000)\n",
    "plt.plot(x, x, color='orange');"
   ]
  },
  {
   "cell_type": "markdown",
   "metadata": {},
   "source": [
    "Let's also plot the relative error on the fluxes estimation as a function of the ground-truth fluxes."
   ]
  },
  {
   "cell_type": "code",
   "execution_count": null,
   "metadata": {},
   "outputs": [],
   "source": [
    "rel_err = (photometry_results['flux_fit'] - starlist['flux']) / starlist['flux']\n",
    "plt.scatter(starlist['flux'], rel_err)\n",
    "plt.xlabel('Ground-truth flux')\n",
    "plt.ylabel('Flux Relative Error')\n",
    "plt.axhline(0.0, color='orange');"
   ]
  },
  {
   "cell_type": "markdown",
   "metadata": {},
   "source": [
    "# `IterativelySubtractedPSFPhotometry`"
   ]
  },
  {
   "cell_type": "markdown",
   "metadata": {},
   "source": [
    "`IterativelySubtractedPSFPhotometry` is a subclass of `BasicPSFPhotometry` that adds iteration functionality to the photometry procedure. It has the same parameters as `BasicPSFPhotometry`, except that it includes an additional `niters` parameter that represents the number of times to loop through the photometry process, subtracting the best-fit stars each time. The `niters` parameter can be `None`, which means that the photometry procedure will continue until no more sources are detected."
   ]
  },
  {
   "cell_type": "markdown",
   "metadata": {},
   "source": [
    "The  process implemented in `IterativelySubtractedPSFPhotometry` resembles the loop used by DAOPHOT: `FIND`, `GROUP`, `NSTAR`, `SUBTRACT`, `FIND`. On its own `IterativelySubtractedPSFPhotometry` doesn't implement the specific algorithms used in DAOPHOT (`DAOPhotPSFPhotometry`, discussed below, does), but it does implement the *structure* to enable this."
   ]
  },
  {
   "cell_type": "markdown",
   "metadata": {},
   "source": [
    "One final detail: the `finder` parameter (specifying the star-finder algorithm) for `IterativelySubtractedPSFPhotometry` cannot be `None` (as it can be for `BasicPSFPhotometry`). This is because it would not make sense to have an iterative process where the star finder changes completely at each step.  If you want to do that you're better off manually looping over a series of calls to different `BasicPSFPhotometry` objects."
   ]
  },
  {
   "cell_type": "markdown",
   "metadata": {},
   "source": [
    "## Example with unknown positions and unknown fluxes"
   ]
  },
  {
   "cell_type": "markdown",
   "metadata": {},
   "source": [
    "Let's instantiate an object of `IterativelySubtractedPSFPhotometry`:"
   ]
  },
  {
   "cell_type": "code",
   "execution_count": null,
   "metadata": {},
   "outputs": [],
   "source": [
    "from photutils.psf import IterativelySubtractedPSFPhotometry\n",
    "\n",
    "itr_phot = IterativelySubtractedPSFPhotometry(group_maker=daogroup, bkg_estimator=mmm_bkg,\n",
    "                                              psf_model=gaussian_psf, fitshape=fitshape,\n",
    "                                              finder=iraffind, niters=2)"
   ]
  },
  {
   "cell_type": "markdown",
   "metadata": {},
   "source": [
    "Let's now perform photometry on our artificial image:"
   ]
  },
  {
   "cell_type": "code",
   "execution_count": null,
   "metadata": {},
   "outputs": [],
   "source": [
    "photometry_results = itr_phot(image)\n",
    "photometry_results"
   ]
  },
  {
   "cell_type": "markdown",
   "metadata": {},
   "source": [
    "Observe that there is a new column namely `iter_detected` which shows the iteration number in which the source was detected."
   ]
  },
  {
   "cell_type": "markdown",
   "metadata": {},
   "source": [
    "Let's plot the residual image."
   ]
  },
  {
   "cell_type": "code",
   "execution_count": null,
   "metadata": {},
   "outputs": [],
   "source": [
    "fig, (ax1, ax2) = plt.subplots(1, 2, figsize=(10, 10))\n",
    "\n",
    "im1 = ax1.imshow(image)\n",
    "ax1.set_title('Simulated data')\n",
    "plt.colorbar(orientation='horizontal', fraction=0.046, pad=0.04,\n",
    "             ax=ax1, mappable=im1)\n",
    "\n",
    "im2 = ax2.imshow(itr_phot.get_residual_image())\n",
    "ax2.set_title('Residual Image')\n",
    "plt.colorbar(orientation='horizontal', fraction=0.046, pad=0.04,\n",
    "             ax=ax2, mappable=im2)"
   ]
  },
  {
   "cell_type": "markdown",
   "metadata": {},
   "source": [
    "# `DAOPhotPSFPhotometry`"
   ]
  },
  {
   "cell_type": "markdown",
   "metadata": {},
   "source": [
    "There is also a class called `DAOPhotPSFPhotometry` that is a subclass of `IterativelySubtractedPSFPhotometry`.  `DAOPhotPSFPhotometry` essentially implements the DAOPHOT photometry algorithm using `IterativelySubtractedPSFPhotometry`.  So instead of giving it arguments like `finder`, you provide parameters specific for the DAOPhot-like sub-tasks (e.g., the FWHM the star-finder is optimized for).\n",
    "\n",
    "We leave the use of this class as an **exercise to the user** to play with the parameters which would optimize the photometry procedure. Uncomment the lines below and edit the cell:"
   ]
  },
  {
   "cell_type": "code",
   "execution_count": null,
   "metadata": {
    "tags": [
     "raises-exception"
    ]
   },
   "outputs": [],
   "source": [
    "from photutils.psf import DAOPhotPSFPhotometry\n",
    "\n",
    "#dao_phot = DAOPhotPSFPhotometry(...)\n",
    "\n",
    "#photometry_results = dao_phot(image)\n",
    "#photometry_results"
   ]
  },
  {
   "cell_type": "markdown",
   "metadata": {},
   "source": [
    "## Documentation"
   ]
  },
  {
   "cell_type": "markdown",
   "metadata": {},
   "source": [
    "Narrative and API docs of the classes used here can be found in https://photutils.readthedocs.io/en/stable/"
   ]
  },
  {
   "cell_type": "markdown",
   "metadata": {},
   "source": [
    "# Future Work\n",
    "\n",
    "The PSF Photometry module in photutils is still under development and feedback from users is much appreciated. Please open an issue on the github issue tracker of photutils with any suggestions for improvement, functionalities wanted, bugs, etc.\n",
    "\n",
    "Near future implementations in the photutils.psf module include:\n",
    "\n",
    "* FWHM estimation: a Python equivalent to DAOPHOT psfmeasure."
   ]
  }
 ],
 "metadata": {
  "anaconda-cloud": {},
  "kernelspec": {
   "display_name": "Python 3 (ipykernel)",
   "language": "python",
   "name": "python3"
  },
  "language_info": {
   "codemirror_mode": {
    "name": "ipython",
    "version": 3
   },
   "file_extension": ".py",
   "mimetype": "text/x-python",
   "name": "python",
   "nbconvert_exporter": "python",
   "pygments_lexer": "ipython3",
   "version": "3.11.1"
  }
 },
 "nbformat": 4,
 "nbformat_minor": 1
}
