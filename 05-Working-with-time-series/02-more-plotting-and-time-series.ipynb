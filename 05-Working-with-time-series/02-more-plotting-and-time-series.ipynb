{
 "cells": [
  {
   "cell_type": "markdown",
   "id": "73f10190-e2ae-4feb-876c-c749dcfc42e5",
   "metadata": {},
   "source": [
    "# More about time series\n",
    "\n",
    "Astropy has a class called `TimeSeries` dedicated to representing time series.\n",
    "\n",
    "We'll start by importing that, then read in more AAVSO data on DY Her and make a time series from it."
   ]
  },
  {
   "cell_type": "code",
   "execution_count": null,
   "id": "b71b7647-4136-4e39-9365-092700ceb424",
   "metadata": {},
   "outputs": [],
   "source": [
    "from astropy.coordinates import SkyCoord, EarthLocation\n",
    "from astropy.table import Table\n",
    "from astropy.timeseries import TimeSeries\n",
    "from astropy.time import Time\n",
    "from astropy import units as u\n",
    "\n",
    "%matplotlib widget\n",
    "from matplotlib import pyplot as plt"
   ]
  },
  {
   "cell_type": "markdown",
   "id": "5f502c12-07d5-4006-a55b-5741ac1b6721",
   "metadata": {},
   "source": [
    "## More DY Her data -- all AAVSO data for DY Her in V band\n",
    "\n",
    "We'll begin nearby reading this and plotting it."
   ]
  },
  {
   "cell_type": "code",
   "execution_count": null,
   "id": "f6d8bc5f-1f35-4a73-945f-2f9bb0b3e001",
   "metadata": {},
   "outputs": [],
   "source": [
    "dy_her_V = Table.read('aavsodata_dy_her_V_only.csv')"
   ]
  },
  {
   "cell_type": "code",
   "execution_count": null,
   "id": "0d1ca3f1-0da0-4831-bfd2-beb5bc5f1acd",
   "metadata": {},
   "outputs": [],
   "source": [
    "plt.figure()\n",
    "plt.plot(dy_her_V['JD'], dy_her_V['Magnitude'])\n",
    "plt.grid()"
   ]
  },
  {
   "cell_type": "markdown",
   "id": "35035822-4d23-46a3-8835-cde67f9900cc",
   "metadata": {},
   "source": [
    "### Making a folded (phased) light curve\n",
    "\n",
    "We begin by creating a time series. It is essentially a `Table` with a special `time` property.\n",
    "\n",
    "It is often necessary to create a `Time` object first."
   ]
  },
  {
   "cell_type": "code",
   "execution_count": null,
   "id": "0bd76345-ba14-42a1-8bf3-e7c14864be70",
   "metadata": {},
   "outputs": [],
   "source": [
    "times = Time(dy_her_V['JD'], format='jd', scale='utc')\n",
    "time_series = TimeSeries(time=times, data=dy_her_V)"
   ]
  },
  {
   "cell_type": "code",
   "execution_count": null,
   "id": "d0be9f66-84a4-4da5-9c6a-b5bc2e40b7a6",
   "metadata": {},
   "outputs": [],
   "source": [
    "time_series"
   ]
  },
  {
   "cell_type": "markdown",
   "id": "72e8fc51-5910-4ebe-9375-6b1be567d10f",
   "metadata": {},
   "source": [
    "There is a fold method for creating a phased light curve. The period for this star from VSX is below."
   ]
  },
  {
   "cell_type": "code",
   "execution_count": null,
   "id": "ca391f21-6ccc-47c3-9f0c-7286a1d216e4",
   "metadata": {},
   "outputs": [],
   "source": [
    "period = 0.298427200000 * u.day\n",
    "\n",
    "folded_dy_her = time_series.fold(period=period, normalize_phase=True)"
   ]
  },
  {
   "cell_type": "markdown",
   "id": "b2162e6b-be71-4795-930d-6682488914ff",
   "metadata": {},
   "source": [
    "This turns the `time` into a number from 0 to 1."
   ]
  },
  {
   "cell_type": "code",
   "execution_count": null,
   "id": "c59579be-cde0-4383-9280-eb57ed41815c",
   "metadata": {},
   "outputs": [],
   "source": [
    "folded_dy_her.time"
   ]
  },
  {
   "cell_type": "code",
   "execution_count": null,
   "id": "ff161ea9-6e05-4f50-947a-683e3b04d1ac",
   "metadata": {},
   "outputs": [],
   "source": [
    "plt.figure()\n",
    "plt.plot(folded_dy_her.time, folded_dy_her['Magnitude'])\n",
    "plt.grid()"
   ]
  },
  {
   "cell_type": "code",
   "execution_count": null,
   "id": "4cae0714-2d16-4234-9e18-8b32f7aeca43",
   "metadata": {},
   "outputs": [],
   "source": [
    "plt.figure()\n",
    "\n",
    "# The \".\" below is shorthand for a marker that is a small dot\n",
    "\n",
    "plt.plot(folded_dy_her.time, folded_dy_her['Magnitude'], '.')\n",
    "plt.grid()"
   ]
  },
  {
   "cell_type": "code",
   "execution_count": null,
   "id": "91e3dd4b-26a0-4dfa-b484-9338b75f9568",
   "metadata": {},
   "outputs": [],
   "source": [
    "dy_her_coord = SkyCoord.from_name('dy her')\n",
    "\n",
    "hjd = times.light_travel_time(dy_her_coord, kind='heliocentric', location=EarthLocation(lon=0, lat=0))"
   ]
  },
  {
   "cell_type": "code",
   "execution_count": null,
   "id": "de162677-3cf2-4fe9-b457-cf8f2bfaaff1",
   "metadata": {},
   "outputs": [],
   "source": [
    "hjd = (times + hjd).utc"
   ]
  },
  {
   "cell_type": "code",
   "execution_count": null,
   "id": "c6b99d08-a121-4947-806e-6ff227f659f5",
   "metadata": {},
   "outputs": [],
   "source": [
    "hjd"
   ]
  },
  {
   "cell_type": "code",
   "execution_count": null,
   "id": "0459c0f2-7620-44a1-a4fc-64a5a076667f",
   "metadata": {},
   "outputs": [],
   "source": [
    "recent = hjd.jd > 2460000"
   ]
  },
  {
   "cell_type": "code",
   "execution_count": null,
   "id": "6e5c017a-54b5-4134-92cf-2e49291d569b",
   "metadata": {},
   "outputs": [],
   "source": [
    "new_time_series = TimeSeries(time=hjd[recent], data=dy_her_V[recent])"
   ]
  },
  {
   "cell_type": "code",
   "execution_count": null,
   "id": "fa1ae5f2-a7c8-4eb0-ae32-f234c2828aa0",
   "metadata": {},
   "outputs": [],
   "source": [
    "new_folded_dy_her = new_time_series.fold(period=period, normalize_phase=True)"
   ]
  },
  {
   "cell_type": "code",
   "execution_count": null,
   "id": "7286093f-d0e8-44db-a227-77c9b722c38f",
   "metadata": {},
   "outputs": [],
   "source": [
    "plt.figure()\n",
    "\n",
    "# The \".\" below is shorthand for a marker that is a small dot\n",
    "\n",
    "plt.plot(new_folded_dy_her.time, new_folded_dy_her['Magnitude'], '.')\n",
    "plt.grid()"
   ]
  },
  {
   "cell_type": "code",
   "execution_count": null,
   "id": "d56540e3-42d3-4cee-b474-1a4552b92a1e",
   "metadata": {},
   "outputs": [],
   "source": []
  }
 ],
 "metadata": {
  "kernelspec": {
   "display_name": "Python 3 (ipykernel)",
   "language": "python",
   "name": "python3"
  },
  "language_info": {
   "codemirror_mode": {
    "name": "ipython",
    "version": 3
   },
   "file_extension": ".py",
   "mimetype": "text/x-python",
   "name": "python",
   "nbconvert_exporter": "python",
   "pygments_lexer": "ipython3",
   "version": "3.10.13"
  }
 },
 "nbformat": 4,
 "nbformat_minor": 5
}
